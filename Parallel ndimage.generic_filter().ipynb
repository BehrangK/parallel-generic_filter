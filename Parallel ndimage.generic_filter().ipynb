{
 "cells": [
  {
   "cell_type": "code",
   "execution_count": 10,
   "metadata": {},
   "outputs": [],
   "source": [
    "import numpy as np\n",
    "import time\n",
    "from scipy import ndimage\n",
    "from joblib import Parallel, delayed"
   ]
  },
  {
   "cell_type": "markdown",
   "metadata": {},
   "source": [
    "# marfurt_semblance is an example function that we like to apply in a moving window to a large array. This process can be very slow. \n",
    "\n",
    "### please note that \"marfurt_semblance\" is an example. You can replace it with any filter."
   ]
  },
  {
   "cell_type": "code",
   "execution_count": 11,
   "metadata": {},
   "outputs": [],
   "source": [
    "\n",
    "def marfurt_semblance(region):\n",
    "\n",
    "    region = region.reshape(-1, region.shape[-1])\n",
    "    ntraces, nsamples = region.shape\n",
    "   \n",
    "\n",
    "    square_of_sums = np.sum(region, axis=0)**2\n",
    "    sum_of_squares = np.sum(region**2, axis=0)\n",
    "    \n",
    "    sembl = square_of_sums.sum() / sum_of_squares.sum()\n",
    "    \n",
    "    r=sembl/ ntraces\n",
    "    #print(r)\n",
    "    return r\n",
    "\n"
   ]
  },
  {
   "cell_type": "markdown",
   "metadata": {},
   "source": [
    "# Let's try the normal way, which only uses 1 core and can be very slow:"
   ]
  },
  {
   "cell_type": "code",
   "execution_count": 25,
   "metadata": {},
   "outputs": [
    {
     "name": "stdout",
     "output_type": "stream",
     "text": [
      "Runtime for single core (seconds):  20.23\n"
     ]
    }
   ],
   "source": [
    "np.random.seed(10)\n",
    "a=np.random.random((100,100,100))\n",
    "window=(3,3,2)\n",
    "\n",
    "s=time.time()\n",
    "wrapped = lambda region: marfurt_semblance(region.reshape(window))\n",
    "r0=ndimage.generic_filter(a, wrapped, window)\n",
    "print('Runtime for single core (seconds): ',round(time.time()-s,2))"
   ]
  },
  {
   "cell_type": "markdown",
   "metadata": {},
   "source": [
    "# \"sliceit\" will create n smaller arrays that later we calcualte the filter for each one in parallel "
   ]
  },
  {
   "cell_type": "code",
   "execution_count": 26,
   "metadata": {},
   "outputs": [],
   "source": [
    "def sliceit(a,n_cpu,w):\n",
    "    N=a.shape[0]\n",
    "    step = N / n_cpu\n",
    "    t_a_s=[]\n",
    "    i_s=[]\n",
    "    j_s=[]\n",
    "    for i in range(n_cpu):    \n",
    "        i1=round(step*i)\n",
    "        i2=round(step*(i+1))\n",
    "        i_s.append([i1,i2])\n",
    "        d=i2-i1\n",
    "        j1=max(0,i1-w)\n",
    "        j2=min(i2+w,N)\n",
    "        m=j2-j1\n",
    "        ta=a[j1:j2,:]\n",
    "        t_a_s.append(ta)\n",
    "        j1=int((i!=0))*w\n",
    "        j2=min(j1+d,m)        \n",
    "        j_s.append([j1,j2])\n",
    "    return(t_a_s,i_s,j_s)\n",
    "\n",
    "\n",
    "def runit(ta):\n",
    "    return ndimage.generic_filter(ta, wrapped, window)"
   ]
  },
  {
   "cell_type": "code",
   "execution_count": 27,
   "metadata": {},
   "outputs": [
    {
     "name": "stdout",
     "output_type": "stream",
     "text": [
      "Runtime for 16 cores (seconds):  4.45\n"
     ]
    }
   ],
   "source": [
    "s=time.time() \n",
    "r=np.zeros(a.shape)\n",
    "n_cpu=16\n",
    "t_a_s,i_s,j_s=sliceit(a,n_cpu,window[0])\n",
    "\n",
    "\n",
    "s=time.time()     \n",
    "tr_lst=Parallel(n_jobs=n_cpu,verbose=0)(\n",
    "            delayed(runit)(t_a_s[i]) for i in range(n_cpu))\n",
    "\n",
    "\n",
    "for i in range(n_cpu):\n",
    "    tr=tr_lst[i]\n",
    "    i1,i2=i_s[i]\n",
    "    j1,j2=j_s[i]\n",
    "    r[i1:i2,:]=tr[j1:j2,:]\n",
    "print('Runtime for 16 cores (seconds): ',round(time.time()-s,2))"
   ]
  },
  {
   "cell_type": "markdown",
   "metadata": {},
   "source": [
    "# Calculating the errpr: the difference between single core and the parallel process is calculated. The error should be zero."
   ]
  },
  {
   "cell_type": "code",
   "execution_count": 28,
   "metadata": {},
   "outputs": [
    {
     "name": "stdout",
     "output_type": "stream",
     "text": [
      "Error: 0.0\n"
     ]
    }
   ],
   "source": [
    "rr=(r-r0)**2\n",
    "print('Error:',np.sum(rr))"
   ]
  }
 ],
 "metadata": {
  "kernelspec": {
   "display_name": "Python 3",
   "language": "python",
   "name": "python3"
  },
  "language_info": {
   "codemirror_mode": {
    "name": "ipython",
    "version": 3
   },
   "file_extension": ".py",
   "mimetype": "text/x-python",
   "name": "python",
   "nbconvert_exporter": "python",
   "pygments_lexer": "ipython3",
   "version": "3.7.6"
  }
 },
 "nbformat": 4,
 "nbformat_minor": 4
}
